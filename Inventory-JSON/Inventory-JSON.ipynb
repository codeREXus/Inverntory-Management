{
 "cells": [
  {
   "cell_type": "code",
   "execution_count": 4,
   "id": "52e15504",
   "metadata": {
    "scrolled": false
   },
   "outputs": [
    {
     "data": {
      "text/plain": [
       "{1001: {'Name': '5 Star', 'Price': 10, 'Qn': 200},\n",
       " 1002: {'Name': 'Bar-One', 'Price': 20, 'Qn': 100},\n",
       " 1003: {'Name': 'Candy', 'Price': 2, 'Qn': 1000},\n",
       " 1004: {'Name': 'Chocolate Cake', 'Price': 550, 'Qn': 8},\n",
       " 1005: {'Name': 'Blueberry Cake', 'Price': 650, 'Qn': 5}}"
      ]
     },
     "execution_count": 4,
     "metadata": {},
     "output_type": "execute_result"
    }
   ],
   "source": [
    "record"
   ]
  },
  {
   "cell_type": "code",
   "execution_count": 22,
   "id": "6c1bd19a",
   "metadata": {},
   "outputs": [
    {
     "name": "stdout",
     "output_type": "stream",
     "text": [
      "------------------------------ MENU ------------------------------ \n",
      "\n",
      "1001  :  5 Star  |  10  |  77\n",
      "1002  :  Bar-One  |  20  |  -1134\n",
      "1003  :  Candy  |  2  |  1000\n",
      "1004  :  Chocolate Cake  |  550  |  8\n",
      "1005  :  Blueberry Cake  |  650  |  5\n",
      "------------------------------------------------------------------ \n",
      "\n",
      "Enter Product ID :1001\n",
      "Enter Quantity   :75\n",
      "------------------------------------------------------------------ \n",
      "\n",
      "5 Star\n",
      "77\n",
      "10\n",
      "75\n",
      "------------------------------------------------------------------ \n",
      "\n",
      "Billing Amount :₹ 750\n"
     ]
    }
   ],
   "source": [
    "import json\n",
    "fd= open('records.json','r')\n",
    "js= fd.read()\n",
    "fd.close()\n",
    "\n",
    "record =json.loads(js)\n",
    "\n",
    "\n",
    "\n",
    "print(\"-\"*30,\"MENU\",\"-\"*30 ,\"\\n\")\n",
    "\n",
    "for key in record.keys():\n",
    "    print(key,' : ',record[key]['Name'],' | ',record[key]['Price'],' | ',record[key]['Qn'])\n",
    "print(\"-\"*66 ,\"\\n\")\n",
    "\n",
    "in_prod_id=str(input(\"Enter Product ID :\"))\n",
    "in_prod_qn=int(input(\"Enter Quantity   :\"))\n",
    "print(\"-\"*66 ,\"\\n\")\n",
    "\n",
    "\n",
    "print(record[in_prod_id]['Name'])\n",
    "print(record[in_prod_id]['Qn'])\n",
    "print(record[in_prod_id]['Price'])\n",
    "\n",
    "record[in_prod_id]['Qn']=record[in_prod_id]['Qn']-in_prod_qn\n",
    "\n",
    "print(in_prod_qn)\n",
    "\n",
    "print(\"-\"*66 ,\"\\n\")\n",
    "print(\"Billing Amount :₹\",int(record[in_prod_id]['Price'])*in_prod_qn)\n",
    "\n",
    "js=json.dumps(record)\n",
    "fd=open('records.json','w')\n",
    "fd.write(js)\n",
    "fd.close()"
   ]
  },
  {
   "cell_type": "code",
   "execution_count": 23,
   "id": "fcef6eed",
   "metadata": {},
   "outputs": [
    {
     "data": {
      "text/plain": [
       "{'1001': {'Name': '5 Star', 'Price': 10, 'Qn': 2},\n",
       " '1002': {'Name': 'Bar-One', 'Price': 20, 'Qn': -1134},\n",
       " '1003': {'Name': 'Candy', 'Price': 2, 'Qn': 1000},\n",
       " '1004': {'Name': 'Chocolate Cake', 'Price': 550, 'Qn': 8},\n",
       " '1005': {'Name': 'Blueberry Cake', 'Price': 650, 'Qn': 5}}"
      ]
     },
     "execution_count": 23,
     "metadata": {},
     "output_type": "execute_result"
    }
   ],
   "source": [
    "record\n"
   ]
  },
  {
   "cell_type": "code",
   "execution_count": null,
   "id": "f2027f30",
   "metadata": {},
   "outputs": [],
   "source": []
  },
  {
   "cell_type": "code",
   "execution_count": null,
   "id": "5b0637f6",
   "metadata": {},
   "outputs": [],
   "source": []
  }
 ],
 "metadata": {
  "kernelspec": {
   "display_name": "Python 3 (ipykernel)",
   "language": "python",
   "name": "python3"
  },
  "language_info": {
   "codemirror_mode": {
    "name": "ipython",
    "version": 3
   },
   "file_extension": ".py",
   "mimetype": "text/x-python",
   "name": "python",
   "nbconvert_exporter": "python",
   "pygments_lexer": "ipython3",
   "version": "3.11.7"
  }
 },
 "nbformat": 4,
 "nbformat_minor": 5
}
